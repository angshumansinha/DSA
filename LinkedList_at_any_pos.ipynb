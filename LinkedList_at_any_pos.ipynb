{
  "nbformat": 4,
  "nbformat_minor": 0,
  "metadata": {
    "colab": {
      "provenance": [],
      "authorship_tag": "ABX9TyMiyT0iSRoVlTiFsnU2RHUJ",
      "include_colab_link": true
    },
    "kernelspec": {
      "name": "python3",
      "display_name": "Python 3"
    },
    "language_info": {
      "name": "python"
    }
  },
  "cells": [
    {
      "cell_type": "markdown",
      "metadata": {
        "id": "view-in-github",
        "colab_type": "text"
      },
      "source": [
        "<a href=\"https://colab.research.google.com/github/angshumansinha/DSA/blob/master/LinkedList_at_any_pos.ipynb\" target=\"_parent\"><img src=\"https://colab.research.google.com/assets/colab-badge.svg\" alt=\"Open In Colab\"/></a>"
      ]
    },
    {
      "cell_type": "code",
      "execution_count": 14,
      "metadata": {
        "id": "eZtyZFWSEhKG"
      },
      "outputs": [],
      "source": [
        "class Node:\n",
        "  def __init__(self,data):\n",
        "    self.data=data\n",
        "    self.next=None\n",
        "\n",
        "class LinkedList:\n",
        "  def __init__(self,node):\n",
        "    self.head=node\n",
        "  \n",
        "  def show(self):\n",
        "    temp=self.head\n",
        "    print(\"Head\",end=\"-->\")\n",
        "    while temp:\n",
        "      print(temp.data,end=\"-->\")\n",
        "      temp=temp.next\n",
        "    print(\"STOP\")\n",
        "  \n",
        "  def insert(self,pos,node):\n",
        "    new_node=node\n",
        "    temp=self.head\n",
        "    if pos<0:\n",
        "      print(\"Invalid\")\n",
        "    else:\n",
        "      if pos==0:\n",
        "        new_node.next=self.head\n",
        "        self.head=new_node\n",
        "      else:\n",
        "        i=0\n",
        "        while i<=pos-1:\n",
        "          temp=temp.next\n",
        "          i+=1\n",
        "        new_node.next=temp.next\n",
        "        temp.next=new_node\n",
        "    \n",
        "    "
      ]
    },
    {
      "cell_type": "code",
      "source": [
        "first=Node(11)\n",
        "second=Node(23)\n",
        "third=Node(3)\n",
        "fourth=Node(-9)\n",
        "first.next=second\n",
        "second.next=third\n",
        "third.next=fourth\n",
        "ll=LinkedList(first)\n",
        "ll.show()\n",
        "ll.insert(2,Node(4))"
      ],
      "metadata": {
        "colab": {
          "base_uri": "https://localhost:8080/"
        },
        "id": "8B3EvSjgF4r1",
        "outputId": "d08911f3-6b20-4dad-d08a-7f04a213e6d8"
      },
      "execution_count": 15,
      "outputs": [
        {
          "output_type": "stream",
          "name": "stdout",
          "text": [
            "Head-->11-->23-->3-->-9-->STOP\n"
          ]
        }
      ]
    },
    {
      "cell_type": "code",
      "source": [
        "ll.show()"
      ],
      "metadata": {
        "colab": {
          "base_uri": "https://localhost:8080/"
        },
        "id": "nDn6TjXmJx-7",
        "outputId": "966abfff-5ae9-4aa5-fda5-370b6b10bdcd"
      },
      "execution_count": 16,
      "outputs": [
        {
          "output_type": "stream",
          "name": "stdout",
          "text": [
            "Head-->11-->23-->3-->4-->-9-->STOP\n"
          ]
        }
      ]
    },
    {
      "cell_type": "code",
      "source": [],
      "metadata": {
        "id": "e6mHDu1VJ79A"
      },
      "execution_count": null,
      "outputs": []
    }
  ]
}